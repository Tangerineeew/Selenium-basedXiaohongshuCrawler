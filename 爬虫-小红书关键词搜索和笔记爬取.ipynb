{
 "cells": [
  {
   "cell_type": "code",
   "execution_count": 1,
   "metadata": {},
   "outputs": [],
   "source": [
    "# 导入包(PypI)\n",
    "from selenium import webdriver\n",
    "from selenium.webdriver.chrome.options import Options\n",
    "from selenium.webdriver.common.action_chains import ActionChains\n",
    "from selenium.webdriver.common.by import By\n",
    "from selenium.webdriver.support.ui import WebDriverWait\n",
    "from selenium.webdriver.support import expected_conditions as EC\n",
    "\n",
    "from scrapy.selector import Selector\n",
    "from scrapy.http import TextResponse\n",
    "\n",
    "import os\n",
    "import re\n",
    "import time\n",
    "import json\n",
    "import random\n",
    "import pandas as pd\n",
    "import pymongo\n",
    "from datetime import datetime\n",
    "from tqdm.notebook import tqdm\n",
    "from PIL import Image\n",
    "from io import BytesIO"
   ]
  },
  {
   "cell_type": "markdown",
   "metadata": {},
   "source": [
    "启动Chrome浏览器实例：\n",
    "1）打开cmd命令提示符，输入\"your Chrome.exe path\" --remote-debugging-port=9222 --user-data-dir=\"C:\\selenum\\AutomationProfile\"\n",
    "注意：请将your Chrome.exe path替换为您的Chrome浏览器所在路径，例如C:\\Program Files\\Google\\Chrome\\Application\\chrome.exe"
   ]
  },
  {
   "cell_type": "code",
   "execution_count": 2,
   "metadata": {},
   "outputs": [],
   "source": [
    "# 配置Chrome浏览器选项\n",
    "options = Options()\n",
    "options.add_experimental_option('debuggerAddress', '127.0.0.1:9222')# 远程调控模式启用\n",
    "options.add_argument('--incognito')# 隐身/无痕模式启用\n",
    "browser = webdriver.Chrome(options=options)\n",
    "action = ActionChains(browser)"
   ]
  },
  {
   "cell_type": "code",
   "execution_count": 3,
   "metadata": {},
   "outputs": [
    {
     "name": "stdout",
     "output_type": "stream",
     "text": [
      "即将开始检查小红书登录状态...\n",
      "爬取数据有账户封禁的风险，建议使用非主账号登录。\n",
      "登录成功\n",
      "检查时间: Wed Oct 25 03:38:32 2023\n",
      "即将开始检查网页加载状态...\n",
      "如果网页进入人机验证页面，请先手动完成验证。\n",
      "请在文本框中根据提示输入搜索关键词和笔记爬取数量。\n",
      "加载成功\n",
      "检查时间: Wed Oct 25 03:38:50 2023\n"
     ]
    }
   ],
   "source": [
    "# 定义全局变量\n",
    "key_word = \"\"\n",
    "num = 0\n",
    "\n",
    "def selenium_test():\n",
    "    global key_word, num# 使用全局变量\n",
    "    browser.get('https://www.xiaohongshu.com/explore')\n",
    "\n",
    "    print(\"即将开始检查小红书登录状态...\")\n",
    "    print(\"爬取数据有账户封禁的风险，建议使用非主账号登录。\")\n",
    "    # 定义循环：检查是否成功登录小红书\n",
    "    while True:\n",
    "        page_source = browser.page_source\n",
    "        if '登录探索更多内容' in page_source:\n",
    "            time.sleep(10)\n",
    "            print('暂未登录，请手动登录')\n",
    "            print('检查时间:',time.ctime())\n",
    "            continue\n",
    "        else:\n",
    "            print('登录成功')\n",
    "            print('检查时间:',time.ctime())\n",
    "            time.sleep(3)\n",
    "            break\n",
    "\n",
    "    print(\"即将开始检查网页加载状态...\")\n",
    "    print(\"如果网页进入人机验证页面，请先手动完成验证。\")\n",
    "    print(\"请在文本框中根据提示输入搜索关键词和笔记爬取数量。\")\n",
    "    key_word = input(\"搜索关键词：\")\n",
    "    num = input(\"笔记爬取数量：\")\n",
    "    num = int(num)\n",
    "\n",
    "    url = f'https://www.xiaohongshu.com/search_result?keyword={key_word}&source=web_explore_feed'\n",
    "    browser.get(url)\n",
    "    time.sleep(3)\n",
    "\n",
    "    # 定义循环：检查页面是否加载成功\n",
    "    while True:\n",
    "        if key_word in browser.title:\n",
    "            print('加载成功')\n",
    "            print('检查时间:',time.ctime())\n",
    "            break\n",
    "        else:\n",
    "            time.sleep(2)\n",
    "\n",
    "if __name__ == '__main__':\n",
    "    selenium_test()"
   ]
  },
  {
   "cell_type": "code",
   "execution_count": 4,
   "metadata": {},
   "outputs": [
    {
     "name": "stdout",
     "output_type": "stream",
     "text": [
      "已自动更改模式为图文。\n",
      "请在文本框中根据提示输入对应数字来选择排序方式。\n",
      "1.综合\n",
      "2.最新\n",
      "3.最热\n",
      "已选择排序方式为: 最热\n",
      "检查时间: Wed Oct 25 03:38:58 2023\n"
     ]
    }
   ],
   "source": [
    "# 通过模拟点击更改模式\n",
    "mode = browser.find_element(By.XPATH, '//*[@id=\"search-type\"]/div/div/div[2]')\n",
    "mode.click()# 模拟鼠标点击\n",
    "print('已自动更改模式为图文。')\n",
    "\n",
    "# 通过模拟点击更改排序方式\n",
    "sort_order = ['综合','最新','最热']\n",
    "print(\"请在文本框中根据提示输入对应数字来选择排序方式。\")\n",
    "for i, order in enumerate(sort_order, 1):\n",
    "    print(f'{i}.{order}')\n",
    "selected_order = input(\"请选择排序方式:\")\n",
    "\n",
    "try:\n",
    "    selected_order_index = int(selected_order)\n",
    "    selected_order_text = sort_order[selected_order_index-1]\n",
    "    element = browser.find_element(By.XPATH, '//*[@id=\"global\"]/div[2]/div[2]/div/div[1]/div[2]')\n",
    "    action.move_to_element(element).perform()# 模拟鼠标悬停\n",
    "    menu = browser.find_element(By.CLASS_NAME, 'dropdown-items')\n",
    "    option = menu.find_element(By.XPATH, f'/html/body/div[4]/div/li[{selected_order_index}]')\n",
    "    option.click()# 模拟鼠标点击\n",
    "    print('已选择排序方式为:',selected_order_text)\n",
    "    print('检查时间:',time.ctime())\n",
    "except Exception as e:\n",
    "    print(e)"
   ]
  },
  {
   "cell_type": "code",
   "execution_count": 5,
   "metadata": {},
   "outputs": [
    {
     "data": {
      "application/vnd.jupyter.widget-view+json": {
       "model_id": "ee4b5053747e403da34bea4c312038b8",
       "version_major": 2,
       "version_minor": 0
      },
      "text/plain": [
       "  0%|          | 0/100 [00:00<?, ?it/s]"
      ]
     },
     "metadata": {},
     "output_type": "display_data"
    }
   ],
   "source": [
    "authorName_list = []\n",
    "likeNr_list = []\n",
    "URL_list = []\n",
    "userURL_list = []\n",
    "\n",
    "wait_time=random.uniform(3,5)#生成随机等待时间\n",
    "\n",
    "# 定义进度条:实时跟踪已爬取的笔记数量\n",
    "qbar = tqdm(total=num)\n",
    "\n",
    "# 定义函数：解析网页内容，爬取数据\n",
    "def parsePage(key_word):\n",
    "    response = TextResponse(url=browser.current_url, body=key_word, encoding='utf-8')# 将key_word转换为Response对象\n",
    "    selector = Selector(response)\n",
    "    divs = selector.xpath('//div[contains(@class, "feeds-container")]/section/div')# 选中网页中包含笔记信息的部分\n",
    "\n",
    "    # 定义循环：遍历divs获取每一篇笔记的信息\n",
    "    for div in divs:\n",
    "        # 选择并提取网页数据\n",
    "        try:\n",
    "            author_name = div.xpath('./div/div/a/span/text()').extract_first()# 作者名字\n",
    "            like_nr = div.xpath('string(./div/div/span)').extract_first()# 获赞数量\n",
    "            url = div.xpath('./div/a/@href').extract_first().split('/')[-1]# 笔记URL\n",
    "            user_url = div.xpath('./div/div/a/@href').extract_first()# 用户URL\n",
    "\n",
    "            authorName_list.append(author_name)\n",
    "            likeNr_list.append(like_nr)\n",
    "            URL_list.append(url)\n",
    "            userURL_list.append(user_url)\n",
    "\n",
    "            time.sleep(0.35)\n",
    "\n",
    "            qbar.update(min(1, num - len(URL_list)))\n",
    "            \n",
    "        except:\n",
    "            pass\n",
    "\n",
    "# 定义循环：检查是否已经爬取足够数量的笔记，或是否已经达到页面底部\n",
    "while len(URL_list) < num:\n",
    "    if '- THE END -' in browser.page_source:\n",
    "        print(f\"当前与{key_word}有关的笔记数量少于 {num}\")\n",
    "        print('检查时间:',time.ctime())\n",
    "        break\n",
    "    \n",
    "    parsePage(browser.page_source)# 解析当前页面\n",
    "    time.sleep(0.3)\n",
    "    browser.execute_script('window.scrollTo(0,document.body.scrollHeight)')# 模拟鼠标滚动\n",
    "    time.sleep(wait_time)\n",
    "\n",
    "if len(URL_list) > num:\n",
    "    URL_list = URL_list[:num]\n",
    "    authorName_list = authorName_list[:num]\n",
    "    likeNr_list = likeNr_list[:num]\n",
    "    userURL_list = userURL_list[:num]\n",
    "\n",
    "qbar.close()"
   ]
  },
  {
   "cell_type": "code",
   "execution_count": 6,
   "metadata": {},
   "outputs": [
    {
     "name": "stdout",
     "output_type": "stream",
     "text": [
      "所有属性列表长度均为 100 ，爬取成功！\n",
      "检查时间: Wed Oct 25 03:40:02 2023\n"
     ]
    }
   ],
   "source": [
    "if (len(authorName_list) == len(likeNr_list) == len(URL_list) == len(userURL_list) == num):\n",
    "    print(\"所有属性列表长度均为\", num,\"，爬取成功！\")\n",
    "    print('检查时间:',time.ctime())\n",
    "else:\n",
    "    min_length = min(len(authorName_list), len(likeNr_list), len(URL_list), len(userURL_list))\n",
    "    print(\"当前属性列表长度最小值为\", min_length, \"请重新运行上一代码单元，直至所有属性列表长度均为\", num, \"！\")\n",
    "    print('检查时间:',time.ctime())"
   ]
  },
  {
   "cell_type": "code",
   "execution_count": 7,
   "metadata": {},
   "outputs": [],
   "source": [
    "# 数据清洗\n",
    "likeNr_list_cleaned = []\n",
    "for like_nr in likeNr_list:\n",
    "    if 'w' in like_nr:\n",
    "        like_nr = like_nr.replace('w', '')\n",
    "        like_nr = float(like_nr) * 10000\n",
    "        like_nr = int(like_nr)\n",
    "    else:\n",
    "        like_nr = int(like_nr)\n",
    "    \n",
    "    likeNr_list_cleaned.append(like_nr)\n",
    "\n",
    "userURL_list_cleaned = [url.split('/')[-1] for url in userURL_list]"
   ]
  },
  {
   "cell_type": "code",
   "execution_count": 8,
   "metadata": {},
   "outputs": [
    {
     "name": "stdout",
     "output_type": "stream",
     "text": [
      "以下为清洁数据示例：\n",
      "author_name: baaaaaany\n",
      "like_nr: 14000\n",
      "url: 643e6f33000000000800f03e\n",
      "user_url: 58d1027a82ec397a3e8e9afc\n",
      "------\n",
      "author_name: 🥦花菜小姐\n",
      "like_nr: 9412\n",
      "url: 63a2ff48000000001f000f71\n",
      "user_url: 54f9c4362e1d935e7c8435c8\n",
      "------\n",
      "author_name: babybunny\n",
      "like_nr: 7167\n",
      "url: 64958a5300000000130016c9\n",
      "user_url: 61834d12000000001000ce29\n",
      "------\n"
     ]
    }
   ],
   "source": [
    "print(\"以下为清洁数据示例：\")\n",
    "for i in range(3):\n",
    "    print(\"author_name:\", authorName_list[i])\n",
    "    print(\"like_nr:\", likeNr_list_cleaned[i])\n",
    "    print(\"url:\", URL_list[i])\n",
    "    print(\"user_url:\", userURL_list_cleaned[i])\n",
    "    print(\"------\")"
   ]
  },
  {
   "cell_type": "code",
   "execution_count": 9,
   "metadata": {},
   "outputs": [
    {
     "data": {
      "application/vnd.jupyter.widget-view+json": {
       "model_id": "8d1e40e83a7f4953b70ff71874e4df9b",
       "version_major": 2,
       "version_minor": 0
      },
      "text/plain": [
       "  0%|          | 0/100 [00:00<?, ?it/s]"
      ]
     },
     "metadata": {},
     "output_type": "display_data"
    }
   ],
   "source": [
    "commentNr_list = []\n",
    "content_list = []\n",
    "datePublished_list = []\n",
    "images_list = []\n",
    "starNr_list = []\n",
    "\n",
    "wait_time = random.uniform(0.5, 2)\n",
    "\n",
    "# 定义进度条:实时跟踪已爬取的笔记数量\n",
    "qbar = tqdm(total=len(URL_list))\n",
    "\n",
    "# 定义循环：遍历items中的每一篇笔记\n",
    "for url in URL_list:\n",
    "    whole_url = 'https://www.xiaohongshu.com/discovery/item/' + url# 构造完整笔记URL\n",
    "    browser.get(whole_url)\n",
    "    WebDriverWait(browser, 10).until(EC.presence_of_element_located((By.XPATH, '//*[@name=\"description\"]')))# 等待笔记页面加载完成\n",
    "    html = browser.page_source\n",
    "\n",
    "    selector = Selector(text = html)# 解析网页内容\n",
    "    \n",
    "    try:\n",
    "        # 选择并提取网页数据\n",
    "        comment_nr = selector.xpath('//*[@class=\"total\"]/text()').extract_first()# 评论数量\n",
    "        content = selector.xpath('//*[@name=\"description\"]/@content').extract_first()# 内容\n",
    "        datePublished = selector.xpath('//*[@class=\"date\"]/text()').extract_first()# 发布时间\n",
    "        images = selector.xpath('//*[@name=\"og:image\"]/@content').extract_first()# 图片\n",
    "        images = images + '.jpg' if images else None# 追加图片链接\n",
    "        star_nr = selector.xpath('//*[@class=\"count\"]/text()').extract_first()# 收藏数量\n",
    "\n",
    "        commentNr_list.append(comment_nr)\n",
    "        content_list.append(content)\n",
    "        datePublished_list.append(datePublished)\n",
    "        images_list.append(images)\n",
    "        starNr_list.append(star_nr)\n",
    "\n",
    "    except:\n",
    "        continue\n",
    "    \n",
    "    qbar.update(1)\n",
    "    time.sleep(wait_time)\n",
    "\n",
    "qbar.close()"
   ]
  },
  {
   "cell_type": "code",
   "execution_count": 10,
   "metadata": {},
   "outputs": [
    {
     "name": "stdout",
     "output_type": "stream",
     "text": [
      "所有属性列表长度均为 100 ，爬取成功！\n",
      "检查时间: Wed Oct 25 03:50:11 2023\n"
     ]
    }
   ],
   "source": [
    "if (len(commentNr_list) == len(content_list) == len(datePublished_list) == len(images_list) == len(starNr_list) == num):\n",
    "    print(\"所有属性列表长度均为\", num,\"，爬取成功！\")\n",
    "    print('检查时间:',time.ctime())\n",
    "else:\n",
    "    min_length = min(len(commentNr_list), len(content_list), len(datePublished_list), len(images_list), len(starNr_list))\n",
    "    print(\"当前属性列表长度最小值为\", min_length, \"请重新运行上一代码单元，直至所有属性列表长度均为\", num, \"！\")\n",
    "    print('检查时间:',time.ctime())"
   ]
  },
  {
   "cell_type": "code",
   "execution_count": 11,
   "metadata": {},
   "outputs": [],
   "source": [
    "# 数据清洗\n",
    "# 定义函数：使用正则表达式提取所有数字\n",
    "def extract_number(x):\n",
    "    # 检查变量类型\n",
    "    if x is None or not isinstance(x, str):\n",
    "        return None\n",
    "    numbers = re.findall(r'\\d+', x)\n",
    "    if numbers:\n",
    "        return int(numbers[0])# 转换数据\n",
    "    else:\n",
    "        return None\n",
    "\n",
    "commentNr_list = [extract_number(commentNr) for commentNr in commentNr_list]\n",
    "starNr_list = [extract_number(star_nr) for star_nr in starNr_list]\n",
    "\n",
    "# 定义函数：使用正则表达式提取所有日期\n",
    "def extract_date(datePublished):\n",
    "    if datePublished is None or not isinstance(datePublished, str):\n",
    "        return None\n",
    "    else:\n",
    "        match = re.search(r'\\d{4}-\\d{2}-\\d{2}', datePublished)\n",
    "        if match:\n",
    "            return match.group()# 转换数据\n",
    "        else:\n",
    "            return None\n",
    "\n",
    "datePublished_list = [datetime.strptime(extract_date(date), \"%Y-%m-%d\") if extract_date(date) else None for date in datePublished_list]"
   ]
  },
  {
   "cell_type": "code",
   "execution_count": 12,
   "metadata": {},
   "outputs": [
    {
     "name": "stdout",
     "output_type": "stream",
     "text": [
      "以下为清洁数据示例：\n",
      "comment_nr: 237\n",
      "content: 五一来上海吃啥！ 个人喜欢的带露台或者临街很漂亮的小酒馆分享给大家 基本上人均都差不多200左右 \t ▪️ POP露台餐厅与酒吧（p1、2） 之前还有午餐套餐的时候去的，一个人就花了100多，现在好像下架啦（餐厅周可以蹲套餐 \t ▪️ Apollo安福路 （p3、4） 西班牙小酒馆，口味真的褒贬不一。出餐不是特别稳定，有时候很好吃有时候一般，临街座位很舒服 \t ▪️ THE NEST(外滩店)（p5） 他们家略贵，人均500➕。露台不大但我真的很喜欢，他们家的调酒也很不错，吧台很漂亮 \t ▪TheCommuneSocial(江宁路店)（p6、7） 这家真的去了 5、6次了，院子很舒服 \t ▪️法国舅舅家小酒馆CHEZ JOJO(永嘉路店)（p8、9） 他们家真的很漂亮 \t ▪️️ChateauDionne红酒主题西餐厅（p10） 我们中午去吃的，点的不多所以人均不到300 \t ▪️ Alimentari Mulino(丰盛里店) 这家出了地铁口就能看到啦，张园那边也很好逛 \t ▪️ CASANOVA意大利餐厅(外滩店) 他们家拍外滩夜景真的很美哦 \t #每人一条五一安利 #上海美食 #上海餐厅露台 #上海旅游 #宝藏餐厅分享\n",
      "datePublished: 2023-04-18 00:00:00\n",
      "images: http://sns-webpic-qc.xhscdn.com/202310250340/b8202407bdcd220096ac0c8e0009c519/1000g0082c2l8ijkgu00049b0hq17l6nsh9d0tr8!nd_whgt34_webp_prv_1.jpg\n",
      "star_nr: 21\n",
      "------\n",
      "comment_nr: 248\n",
      "content: 📍陕西南路上一家不起眼的bar 推开神秘的两道木门， 瞬间置身于一个在秘密森林氧吧里 昏暗的灯光下，零散的玻璃跟灯光的呯应 被随处可见的植物环绕，超有氛围感🌳 - 🔖酒单很神奇的只做植物特调 以花果叶为灵感，且标注了酸甜度以及酒精浓度 - 🍷『玫瑰贼』 见到它时就感叹，怎么有那么美的酒 这颜值和创意就值108了 甜中带酸 - 嗯~是爱情的味道 红酒酸涩加上玫瑰的清香 入口有糯米的香气 - 和姐妹去了那么多bar， 这家的氛围、灯光、和酒🍷真的都恰到好处 \t #上海魔都探店 #周末去哪儿 #上海酒吧 #发现宝藏小酒馆\n",
      "datePublished: 2022-12-21 00:00:00\n",
      "images: http://sns-webpic-qc.xhscdn.com/202310250340/a25132d5963d820aebe10eaeebf21ce2/1000g0081p3fhr70eg0004032rt23cde8a5dnq10!nd_whgt34_webp_prv_1.jpg\n",
      "star_nr: 20\n",
      "------\n",
      "comment_nr: 224\n",
      "content: 居然20+就能在上海喝到鸡尾酒 太幸福辣 #上海酒吧 #今夜来一杯微醺酒\n",
      "datePublished: 2023-06-23 00:00:00\n",
      "images: http://sns-webpic-qc.xhscdn.com/202310250340/4a56ec85f7277c3d5754ff636788b3c0/1000g0082mmtg8qkju0005oc39k941jh9g4fv328!nd_whgt34_webp_prv_1.jpg\n",
      "star_nr: 13\n",
      "------\n"
     ]
    }
   ],
   "source": [
    "print(\"以下为清洁数据示例：\")\n",
    "for i in range(3):\n",
    "    print(\"comment_nr:\", commentNr_list[i])\n",
    "    print(\"content:\", content_list[i])\n",
    "    print(\"datePublished:\", datePublished_list[i])\n",
    "    print(\"images:\", images_list[i])\n",
    "    print(\"star_nr:\", starNr_list[i])\n",
    "    print(\"------\")"
   ]
  },
  {
   "cell_type": "code",
   "execution_count": 13,
   "metadata": {},
   "outputs": [
    {
     "data": {
      "application/vnd.jupyter.widget-view+json": {
       "model_id": "fc385d0ea9c643989c382fa37f73254a",
       "version_major": 2,
       "version_minor": 0
      },
      "text/plain": [
       "  0%|          | 0/100 [00:00<?, ?it/s]"
      ]
     },
     "metadata": {},
     "output_type": "display_data"
    }
   ],
   "source": [
    "authorCollectNr_list = []\n",
    "authorFansNr_list = []\n",
    "authorNoteNr_list = []\n",
    "\n",
    "wait_time = random.uniform(1, 2)\n",
    "\n",
    "# 定义进度条:实时跟踪已爬取的笔记数量\n",
    "qbar = tqdm(total=len(userURL_list))\n",
    "\n",
    "# 定义循环：遍历items中的每一篇笔记\n",
    "for user_url in userURL_list_cleaned:\n",
    "    whole_url = 'https://www.xiaohongshu.com/user/profile/' + user_url# 构造完整个人页面URL\n",
    "    browser.get(whole_url)\n",
    "\n",
    "    while True:\n",
    "        previous_page_height = browser.execute_script(\"return document.body.scrollHeight\")\n",
    "        browser.execute_script(\"window.scrollTo(0, document.body.scrollHeight);\")# 模拟鼠标滚动到页面底部\n",
    "        time.sleep(wait_time)\n",
    "\n",
    "        current_page_height = browser.execute_script(\"return document.body.scrollHeight\")\n",
    "        # 检查滚动后页面高度变化\n",
    "        if current_page_height == previous_page_height:\n",
    "            break\n",
    "        previous_page_height = current_page_height\n",
    "\n",
    "    WebDriverWait(browser, 10).until(EC.presence_of_element_located((By.XPATH, '//*[@id=\"userPostedFeeds\"]//section')))# 等待笔记页面加载完成\n",
    "    # 解析完成加载的网页内容\n",
    "    html = browser.page_source\n",
    "    selector = Selector(text=html)\n",
    "    \n",
    "    # 选择并提取网页数据\n",
    "    author_collect_nr = selector.xpath('//*[@class=\"data-info\"]/div[1]/div[3]/span[@class=\"count\"]/text()').extract_first()# 作者获赞与收藏数量\n",
    "    author_fans_nr = selector.xpath('//*[@class=\"data-info\"]/div[1]/div[2]/span[@class=\"count\"]/text()').extract_first()# 作者粉丝数量\n",
    "    author_note_nr = len(selector.xpath('//*[@id=\"userPostedFeeds\"]//section'))# 作者笔记数量\n",
    "\n",
    "    authorCollectNr_list.append(author_collect_nr)\n",
    "    authorFansNr_list.append(author_fans_nr)\n",
    "    authorNoteNr_list.append(author_note_nr)\n",
    "    \n",
    "    qbar.update(1)\n",
    "    time.sleep(wait_time)\n",
    "\n",
    "qbar.close()"
   ]
  },
  {
   "cell_type": "code",
   "execution_count": 14,
   "metadata": {},
   "outputs": [
    {
     "name": "stdout",
     "output_type": "stream",
     "text": [
      "所有属性列表长度均为 100 ，爬取成功！\n",
      "检查时间: Wed Oct 25 04:19:47 2023\n"
     ]
    }
   ],
   "source": [
    "if (len(authorCollectNr_list) == len(authorFansNr_list) == len(authorNoteNr_list) == num):\n",
    "    print(\"所有属性列表长度均为\", num,\"，爬取成功！\")\n",
    "    print('检查时间:',time.ctime())\n",
    "else:\n",
    "    min_length = min(len(authorCollectNr_list), len(authorFansNr_list), len(authorNoteNr_list))\n",
    "    print(\"当前属性列表长度最小值为\", min_length, \"请重新运行上一代码单元，直至所有属性列表长度均为\", num, \"！\")\n",
    "    print('检查时间:',time.ctime())"
   ]
  },
  {
   "cell_type": "code",
   "execution_count": 15,
   "metadata": {},
   "outputs": [],
   "source": [
    "# 数据清洗\n",
    "# 定义函数：使用正则表达式提取所有数字\n",
    "def extract_largeNumber(element):\n",
    "    match = re.search(r'(\\d+(\\.\\d+)?万?)', element)\n",
    "    if match:\n",
    "        number_str = match.group(1)\n",
    "        if '万' in number_str:\n",
    "                number = float(number_str.replace('万', ''))\n",
    "                number = int(number * 10000)\n",
    "        else:\n",
    "            number = int(number_str)\n",
    "        return number\n",
    "    else:\n",
    "        return None\n",
    "\n",
    "authorCollectNr_list_cleaned = [extract_largeNumber(author_collect_nr) for author_collect_nr in authorCollectNr_list]\n",
    "authorFansNr_list_cleaned = [extract_largeNumber(author_fans_nr) for author_fans_nr in authorFansNr_list]"
   ]
  },
  {
   "cell_type": "code",
   "execution_count": 16,
   "metadata": {},
   "outputs": [
    {
     "name": "stdout",
     "output_type": "stream",
     "text": [
      "以下为清洁数据示例：\n",
      "author_collect_nr: 834000\n",
      "author_fans_nr: 16000\n",
      "author_note_nr: 24\n",
      "------\n",
      "author_collect_nr: 1672000\n",
      "author_fans_nr: 72000\n",
      "author_note_nr: 24\n",
      "------\n",
      "author_collect_nr: 222000\n",
      "author_fans_nr: 5278\n",
      "author_note_nr: 24\n",
      "------\n"
     ]
    }
   ],
   "source": [
    "print(\"以下为清洁数据示例：\")\n",
    "for i in range(3):\n",
    "    print(\"author_collect_nr:\", authorCollectNr_list_cleaned[i])\n",
    "    print(\"author_fans_nr:\", authorFansNr_list_cleaned[i])\n",
    "    print(\"author_note_nr:\", authorNoteNr_list[i])\n",
    "    print(\"------\")"
   ]
  },
  {
   "cell_type": "code",
   "execution_count": 17,
   "metadata": {},
   "outputs": [],
   "source": [
    "col_name = f\"{key_word}{selected_order_text}笔记Top{num}\"\n",
    "\n",
    "# 连接MongoDB\n",
    "myclient=pymongo.MongoClient(\"mongodb://localhost:27017/\")\n",
    "mydb=myclient[\"小红书关键词笔记数据\"]#进行操作的库名\n",
    "mycol=mydb[col_name]#进行操作的集合名"
   ]
  },
  {
   "cell_type": "code",
   "execution_count": 18,
   "metadata": {},
   "outputs": [
    {
     "name": "stdout",
     "output_type": "stream",
     "text": [
      "删除 0 行重复行后剩余 100 行。\n",
      "检查时间: Wed Oct 25 04:19:47 2023\n"
     ]
    },
    {
     "data": {
      "text/html": [
       "<div>\n",
       "<style scoped>\n",
       "    .dataframe tbody tr th:only-of-type {\n",
       "        vertical-align: middle;\n",
       "    }\n",
       "\n",
       "    .dataframe tbody tr th {\n",
       "        vertical-align: top;\n",
       "    }\n",
       "\n",
       "    .dataframe thead th {\n",
       "        text-align: right;\n",
       "    }\n",
       "</style>\n",
       "<table border=\"1\" class=\"dataframe\">\n",
       "  <thead>\n",
       "    <tr style=\"text-align: right;\">\n",
       "      <th></th>\n",
       "      <th>author_collect_nr</th>\n",
       "      <th>author_fans_nr</th>\n",
       "      <th>author_name</th>\n",
       "      <th>author_note_nr</th>\n",
       "      <th>comment_nr</th>\n",
       "      <th>content</th>\n",
       "      <th>datePublished</th>\n",
       "      <th>images</th>\n",
       "      <th>like_nr</th>\n",
       "      <th>url</th>\n",
       "      <th>user_url</th>\n",
       "    </tr>\n",
       "  </thead>\n",
       "  <tbody>\n",
       "    <tr>\n",
       "      <th>0</th>\n",
       "      <td>834000</td>\n",
       "      <td>16000</td>\n",
       "      <td>baaaaaany</td>\n",
       "      <td>24</td>\n",
       "      <td>237</td>\n",
       "      <td>五一来上海吃啥！ 个人喜欢的带露台或者临街很漂亮的小酒馆分享给大家 基本上人均都差不多200...</td>\n",
       "      <td>2023-04-18</td>\n",
       "      <td>http://sns-webpic-qc.xhscdn.com/202310250340/b...</td>\n",
       "      <td>14000</td>\n",
       "      <td>643e6f33000000000800f03e</td>\n",
       "      <td>58d1027a82ec397a3e8e9afc</td>\n",
       "    </tr>\n",
       "    <tr>\n",
       "      <th>1</th>\n",
       "      <td>1672000</td>\n",
       "      <td>72000</td>\n",
       "      <td>🥦花菜小姐</td>\n",
       "      <td>24</td>\n",
       "      <td>248</td>\n",
       "      <td>📍陕西南路上一家不起眼的bar 推开神秘的两道木门， 瞬间置身于一个在秘密森林氧吧里 昏暗的...</td>\n",
       "      <td>2022-12-21</td>\n",
       "      <td>http://sns-webpic-qc.xhscdn.com/202310250340/a...</td>\n",
       "      <td>9412</td>\n",
       "      <td>63a2ff48000000001f000f71</td>\n",
       "      <td>54f9c4362e1d935e7c8435c8</td>\n",
       "    </tr>\n",
       "    <tr>\n",
       "      <th>2</th>\n",
       "      <td>222000</td>\n",
       "      <td>5278</td>\n",
       "      <td>babybunny</td>\n",
       "      <td>24</td>\n",
       "      <td>224</td>\n",
       "      <td>居然20+就能在上海喝到鸡尾酒 太幸福辣 #上海酒吧 #今夜来一杯微醺酒</td>\n",
       "      <td>2023-06-23</td>\n",
       "      <td>http://sns-webpic-qc.xhscdn.com/202310250340/4...</td>\n",
       "      <td>7167</td>\n",
       "      <td>64958a5300000000130016c9</td>\n",
       "      <td>61834d12000000001000ce29</td>\n",
       "    </tr>\n",
       "    <tr>\n",
       "      <th>3</th>\n",
       "      <td>3439000</td>\n",
       "      <td>65000</td>\n",
       "      <td>女侠已退休</td>\n",
       "      <td>24</td>\n",
       "      <td>224</td>\n",
       "      <td>1⃣️ 外滩8号bar💰88/杯 2⃣️沙美大楼 💰120/杯 3⃣️布达佩斯bar💰45/...</td>\n",
       "      <td>2023-04-25</td>\n",
       "      <td>http://sns-webpic-qc.xhscdn.com/202310250340/2...</td>\n",
       "      <td>6929</td>\n",
       "      <td>6446a7d90000000013015eb3</td>\n",
       "      <td>58862a9a5e87e777f73b301f</td>\n",
       "    </tr>\n",
       "    <tr>\n",
       "      <th>4</th>\n",
       "      <td>20000</td>\n",
       "      <td>290</td>\n",
       "      <td>二愣酷憨憨</td>\n",
       "      <td>24</td>\n",
       "      <td>192</td>\n",
       "      <td>假装在巴黎\\t误入莎士比亚书店 白天是一家咖啡店 晚上九点会有乐队/歌手驻唱，变成酒吧模式 ...</td>\n",
       "      <td>2023-06-19</td>\n",
       "      <td>http://sns-webpic-qc.xhscdn.com/202310250340/c...</td>\n",
       "      <td>6509</td>\n",
       "      <td>6490792e00000000130358fa</td>\n",
       "      <td>62fdfb49000000001200d92d</td>\n",
       "    </tr>\n",
       "    <tr>\n",
       "      <th>5</th>\n",
       "      <td>52000</td>\n",
       "      <td>5292</td>\n",
       "      <td>The Drinkery</td>\n",
       "      <td>24</td>\n",
       "      <td>526</td>\n",
       "      <td>以为在上海偶遇了甜茶上海的俄罗斯酒吧也太好玩了吧！终于知道为什么姐妹不愿意回家了 音乐好听，...</td>\n",
       "      <td>2023-04-06</td>\n",
       "      <td>http://sns-webpic-qc.xhscdn.com/202310250340/e...</td>\n",
       "      <td>5838</td>\n",
       "      <td>642e961e000000001301791e</td>\n",
       "      <td>5e7c9a7c0000000001007281</td>\n",
       "    </tr>\n",
       "    <tr>\n",
       "      <th>6</th>\n",
       "      <td>757000</td>\n",
       "      <td>14000</td>\n",
       "      <td>Cristyy</td>\n",
       "      <td>24</td>\n",
       "      <td>155</td>\n",
       "      <td>今年喝了不少酒吧，来分享些自认为还不戳的～ \\t ✔️Bar No.3 他家基本盲点不踩💣 ...</td>\n",
       "      <td>2023-01-24</td>\n",
       "      <td>http://sns-webpic-qc.xhscdn.com/202310250340/c...</td>\n",
       "      <td>5765</td>\n",
       "      <td>63cfd47a000000001c0371ff</td>\n",
       "      <td>550f4e83a46e962d77ce3b2b</td>\n",
       "    </tr>\n",
       "    <tr>\n",
       "      <th>7</th>\n",
       "      <td>3663000</td>\n",
       "      <td>54000</td>\n",
       "      <td>陈什么秋💦</td>\n",
       "      <td>24</td>\n",
       "      <td>175</td>\n",
       "      <td>狠狠标题d了hhhh 你们去了我就真吃不上了🥲 — 我去上海3次都没吃上，太难排了… 后来我...</td>\n",
       "      <td>2023-02-20</td>\n",
       "      <td>http://sns-webpic-qc.xhscdn.com/202310250340/e...</td>\n",
       "      <td>5243</td>\n",
       "      <td>63f320e6000000001203cbd4</td>\n",
       "      <td>5575565d62a60c113c6b0a80</td>\n",
       "    </tr>\n",
       "    <tr>\n",
       "      <th>8</th>\n",
       "      <td>803000</td>\n",
       "      <td>11000</td>\n",
       "      <td>迪迪探店</td>\n",
       "      <td>24</td>\n",
       "      <td>573</td>\n",
       "      <td>终于喝到MBTI主题酒单，“爱情白皮书”有想法！翻开后先进行了一番测试，好准hhh！ \\t ...</td>\n",
       "      <td>2023-01-17</td>\n",
       "      <td>http://sns-webpic-qc.xhscdn.com/202310250341/e...</td>\n",
       "      <td>5052</td>\n",
       "      <td>63c6a9ed000000001e03c6ee</td>\n",
       "      <td>5d1f679b0000000011032bc8</td>\n",
       "    </tr>\n",
       "    <tr>\n",
       "      <th>9</th>\n",
       "      <td>145000</td>\n",
       "      <td>3588</td>\n",
       "      <td>小李的生活手账</td>\n",
       "      <td>24</td>\n",
       "      <td>648</td>\n",
       "      <td>长乐路上新开的一家bar🍸 老板很会算卦！ 可解读卦象并且根据卦象选酒～ 明天正式营业🈺 #...</td>\n",
       "      <td>2023-08-28</td>\n",
       "      <td>http://sns-webpic-qc.xhscdn.com/202310250341/0...</td>\n",
       "      <td>4941</td>\n",
       "      <td>64ec7880000000000301d55d</td>\n",
       "      <td>5b5af09811be105f88d1f8c5</td>\n",
       "    </tr>\n",
       "  </tbody>\n",
       "</table>\n",
       "</div>"
      ],
      "text/plain": [
       "   author_collect_nr  author_fans_nr   author_name  author_note_nr  \\\n",
       "0             834000           16000     baaaaaany              24   \n",
       "1            1672000           72000         🥦花菜小姐              24   \n",
       "2             222000            5278     babybunny              24   \n",
       "3            3439000           65000         女侠已退休              24   \n",
       "4              20000             290         二愣酷憨憨              24   \n",
       "5              52000            5292  The Drinkery              24   \n",
       "6             757000           14000       Cristyy              24   \n",
       "7            3663000           54000         陈什么秋💦              24   \n",
       "8             803000           11000          迪迪探店              24   \n",
       "9             145000            3588       小李的生活手账              24   \n",
       "\n",
       "   comment_nr                                            content  \\\n",
       "0         237  五一来上海吃啥！ 个人喜欢的带露台或者临街很漂亮的小酒馆分享给大家 基本上人均都差不多200...   \n",
       "1         248  📍陕西南路上一家不起眼的bar 推开神秘的两道木门， 瞬间置身于一个在秘密森林氧吧里 昏暗的...   \n",
       "2         224               居然20+就能在上海喝到鸡尾酒 太幸福辣 #上海酒吧 #今夜来一杯微醺酒   \n",
       "3         224  1⃣️ 外滩8号bar💰88/杯 2⃣️沙美大楼 💰120/杯 3⃣️布达佩斯bar💰45/...   \n",
       "4         192  假装在巴黎\\t误入莎士比亚书店 白天是一家咖啡店 晚上九点会有乐队/歌手驻唱，变成酒吧模式 ...   \n",
       "5         526  以为在上海偶遇了甜茶上海的俄罗斯酒吧也太好玩了吧！终于知道为什么姐妹不愿意回家了 音乐好听，...   \n",
       "6         155  今年喝了不少酒吧，来分享些自认为还不戳的～ \\t ✔️Bar No.3 他家基本盲点不踩💣 ...   \n",
       "7         175  狠狠标题d了hhhh 你们去了我就真吃不上了🥲 — 我去上海3次都没吃上，太难排了… 后来我...   \n",
       "8         573  终于喝到MBTI主题酒单，“爱情白皮书”有想法！翻开后先进行了一番测试，好准hhh！ \\t ...   \n",
       "9         648  长乐路上新开的一家bar🍸 老板很会算卦！ 可解读卦象并且根据卦象选酒～ 明天正式营业🈺 #...   \n",
       "\n",
       "  datePublished                                             images  like_nr  \\\n",
       "0    2023-04-18  http://sns-webpic-qc.xhscdn.com/202310250340/b...    14000   \n",
       "1    2022-12-21  http://sns-webpic-qc.xhscdn.com/202310250340/a...     9412   \n",
       "2    2023-06-23  http://sns-webpic-qc.xhscdn.com/202310250340/4...     7167   \n",
       "3    2023-04-25  http://sns-webpic-qc.xhscdn.com/202310250340/2...     6929   \n",
       "4    2023-06-19  http://sns-webpic-qc.xhscdn.com/202310250340/c...     6509   \n",
       "5    2023-04-06  http://sns-webpic-qc.xhscdn.com/202310250340/e...     5838   \n",
       "6    2023-01-24  http://sns-webpic-qc.xhscdn.com/202310250340/c...     5765   \n",
       "7    2023-02-20  http://sns-webpic-qc.xhscdn.com/202310250340/e...     5243   \n",
       "8    2023-01-17  http://sns-webpic-qc.xhscdn.com/202310250341/e...     5052   \n",
       "9    2023-08-28  http://sns-webpic-qc.xhscdn.com/202310250341/0...     4941   \n",
       "\n",
       "                        url                  user_url  \n",
       "0  643e6f33000000000800f03e  58d1027a82ec397a3e8e9afc  \n",
       "1  63a2ff48000000001f000f71  54f9c4362e1d935e7c8435c8  \n",
       "2  64958a5300000000130016c9  61834d12000000001000ce29  \n",
       "3  6446a7d90000000013015eb3  58862a9a5e87e777f73b301f  \n",
       "4  6490792e00000000130358fa  62fdfb49000000001200d92d  \n",
       "5  642e961e000000001301791e  5e7c9a7c0000000001007281  \n",
       "6  63cfd47a000000001c0371ff  550f4e83a46e962d77ce3b2b  \n",
       "7  63f320e6000000001203cbd4  5575565d62a60c113c6b0a80  \n",
       "8  63c6a9ed000000001e03c6ee  5d1f679b0000000011032bc8  \n",
       "9  64ec7880000000000301d55d  5b5af09811be105f88d1f8c5  "
      ]
     },
     "execution_count": 18,
     "metadata": {},
     "output_type": "execute_result"
    }
   ],
   "source": [
    "dic={\n",
    "    \"author_collect_nr\": authorCollectNr_list_cleaned,# 作者获赞与收藏数量\n",
    "    \"author_fans_nr\": authorFansNr_list_cleaned,# 粉丝数量\n",
    "    \"author_name\": authorName_list,# 作者名字\n",
    "    \"author_note_nr\": authorNoteNr_list,# 作者笔记数量\n",
    "    \"comment_nr\": commentNr_list,# 笔记评论数量\n",
    "    \"content\": content_list,# 笔记内容\n",
    "    \"datePublished\": datePublished_list,# 笔记发布日期\n",
    "    \"images\": images_list,# 笔记封面图片\n",
    "    \"like_nr\": likeNr_list_cleaned,# 笔记获赞数量\n",
    "    \"url\": URL_list,# 笔记URL\n",
    "    \"user_url\": userURL_list_cleaned# 作者URL\n",
    "    }\n",
    "\n",
    "df = pd.DataFrame.from_dict(dic)\n",
    "df = df[~df.duplicated(keep='first')]# 检索并删除所有属性值都相同的行,即保留第一次出现的行，删除后续的重复行\n",
    "print(\"删除\", num-len(df), \"行重复行后剩余\", len(df), \"行。\")\n",
    "print('检查时间:',time.ctime())\n",
    "df.head(10)"
   ]
  },
  {
   "cell_type": "code",
   "execution_count": 19,
   "metadata": {},
   "outputs": [
    {
     "data": {
      "text/plain": [
       "<pymongo.results.InsertManyResult at 0x22f665c72b0>"
      ]
     },
     "execution_count": 19,
     "metadata": {},
     "output_type": "execute_result"
    }
   ],
   "source": [
    "mycol.insert_many(df.to_dict('records'))"
   ]
  },
  {
   "cell_type": "code",
   "execution_count": 20,
   "metadata": {},
   "outputs": [],
   "source": [
    "myclient.close()# 关闭MongoDB客户端连接"
   ]
  }
 ],
 "metadata": {
  "kernelspec": {
   "display_name": "Python 3 (ipykernel)",
   "language": "python",
   "name": "python3"
  },
  "language_info": {
   "codemirror_mode": {
    "name": "ipython",
    "version": 3
   },
   "file_extension": ".py",
   "mimetype": "text/x-python",
   "name": "python",
   "nbconvert_exporter": "python",
   "pygments_lexer": "ipython3",
   "version": "3.11.0"
  }
 },
 "nbformat": 4,
 "nbformat_minor": 2
}
